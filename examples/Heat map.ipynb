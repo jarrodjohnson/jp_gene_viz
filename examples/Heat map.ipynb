{
 "cells": [
  {
   "cell_type": "markdown",
   "metadata": {},
   "source": [
    "# Stand alone heatmap\n",
    "\n",
    "The interaction below loads and initializes a stand alone\n",
    "heatmap widget for exploring gene expression data.  The widget supports\n",
    "selection of genes and conditions using space separated lists of\n",
    "names or \"glob\" patterns.\n",
    "\n",
    "For example to select all `th0` conditions add `th0*` in the conditions\n",
    "text area and click the conditions button.\n",
    "\n",
    "To select `nsf`, `nme4`, and `nudt4` genes add `nsf nme4 nudt4` in the\n",
    "genes text area and click the genes button."
   ]
  },
  {
   "cell_type": "code",
   "execution_count": 52,
   "metadata": {
    "collapsed": false
   },
   "outputs": [],
   "source": [
    "from jp_gene_viz import dExpression\n",
    "import pandas as pd\n",
    "import matplotlib.pyplot as plt\n",
    "%matplotlib inline"
   ]
  },
  {
   "cell_type": "code",
   "execution_count": 53,
   "metadata": {
    "collapsed": false
   },
   "outputs": [],
   "source": [
    "dExpression.load_javascript_support()"
   ]
  },
  {
   "cell_type": "code",
   "execution_count": 54,
   "metadata": {
    "collapsed": false
   },
   "outputs": [],
   "source": [
    "tsv = \"/Users/ndeveaux/Dev/th17_jj_gsea/out/th17_jj_deseq_output_0805/pTh17jj_RNAseq_VSDcounts.txt\"\n",
    "E = dExpression.display_heat_map(tsv, show=True)"
   ]
  },
  {
   "cell_type": "code",
   "execution_count": 55,
   "metadata": {
    "collapsed": false
   },
   "outputs": [],
   "source": [
    "E.match_text.value = \"th17_patho96hr*\"\n",
    "E.match_click()\n",
    "E.genes_text.value = \"nsf nme4 nudt4\"\n",
    "E.genes_click()\n",
    "E.transform_dropdown.value = dExpression.LOG2_TRANSFORM"
   ]
  },
  {
   "cell_type": "markdown",
   "metadata": {},
   "source": [
    "## Th17P 96 hr Analysis"
   ]
  },
  {
   "cell_type": "code",
   "execution_count": 56,
   "metadata": {
    "collapsed": true
   },
   "outputs": [],
   "source": [
    "fdr_cutoff = .1"
   ]
  },
  {
   "cell_type": "code",
   "execution_count": 57,
   "metadata": {
    "collapsed": false
   },
   "outputs": [],
   "source": [
    "contrast_file = \"/Users/ndeveaux/Dev/th17_jj_gsea/out/th17_jj_deseq_output_0805/pTh17jj_RNAseq_th17P_96h_aKo_v_th17P_96h.txt\"\n",
    "contrast_table = pd.read_table(contrast_file, index_col=0)"
   ]
  },
  {
   "cell_type": "code",
   "execution_count": 58,
   "metadata": {
    "collapsed": false
   },
   "outputs": [],
   "source": [
    "# Get genes whose difference in expression \n",
    "top_aKO_genes =  contrast_table[contrast_table['padj'] < fdr_cutoff].index.tolist()"
   ]
  },
  {
   "cell_type": "code",
   "execution_count": 59,
   "metadata": {
    "collapsed": false
   },
   "outputs": [],
   "source": [
    "E.genes_text.value = \" \".join(top_aKO_genes)\n",
    "E.genes_click()\n"
   ]
  },
  {
   "cell_type": "code",
   "execution_count": 60,
   "metadata": {
    "collapsed": true
   },
   "outputs": [],
   "source": [
    "contrast_file = \"/Users/ndeveaux/Dev/th17_jj_gsea/out/th17_jj_deseq_output_0805/pTh17jj_RNAseq_th17P_96h_dKo_v_th17P_96h.txt\"\n",
    "contrast_table = pd.read_table(contrast_file, index_col=0)"
   ]
  },
  {
   "cell_type": "code",
   "execution_count": 61,
   "metadata": {
    "collapsed": true
   },
   "outputs": [],
   "source": [
    "# Get genes whose difference in expression \n",
    "top_dKO_genes =  contrast_table[contrast_table['padj'] < fdr_cutoff].index.tolist()\n",
    "E.genes_text.value = \" \".join(top_dKO_genes)\n",
    "E.genes_click()\n"
   ]
  },
  {
   "cell_type": "code",
   "execution_count": 62,
   "metadata": {
    "collapsed": true
   },
   "outputs": [],
   "source": [
    "contrast_file = \"/Users/ndeveaux/Dev/th17_jj_gsea/out/th17_jj_deseq_output_0805/pTh17jj_RNAseq_th17P_96h_gKo_v_th17P_96h.txt\"\n",
    "contrast_table = pd.read_table(contrast_file, index_col=0)"
   ]
  },
  {
   "cell_type": "code",
   "execution_count": 63,
   "metadata": {
    "collapsed": true
   },
   "outputs": [],
   "source": [
    "top_gKO_genes =  contrast_table[contrast_table['padj'] < fdr_cutoff].index.tolist()\n"
   ]
  },
  {
   "cell_type": "code",
   "execution_count": 71,
   "metadata": {
    "collapsed": false
   },
   "outputs": [
    {
     "data": {
      "text/plain": [
       "<Container object of 3 artists>"
      ]
     },
     "execution_count": 71,
     "metadata": {},
     "output_type": "execute_result"
    },
    {
     "data": {
      "image/png": "[encoded data removed]",
      "text/plain": [
       "<matplotlib.figure.Figure at 0x123851490>"
      ]
     },
     "metadata": {},
     "output_type": "display_data"
    }
   ],
   "source": [
    "ind = np.arange(3) \n",
    "plt.bar(ind, [len(top_aKO_genes),  len(top_gKO_genes), len(top_dKO_genes)], log=True)\n"
   ]
  },
  {
   "cell_type": "code",
   "execution_count": 67,
   "metadata": {
    "collapsed": false
   },
   "outputs": [
    {
     "data": {
      "text/plain": [
       "array([ 7.17319174,  2.48490665,  6.36990098])"
      ]
     },
     "execution_count": 67,
     "metadata": {},
     "output_type": "execute_result"
    }
   ],
   "source": []
  },
  {
   "cell_type": "code",
   "execution_count": null,
   "metadata": {
    "collapsed": true
   },
   "outputs": [],
   "source": []
  }
 ],
 "metadata": {
  "kernelspec": {
   "display_name": "Python 2",
   "language": "python",
   "name": "python2"
  },
  "language_info": {
   "codemirror_mode": {
    "name": "ipython",
    "version": 2
   },
   "file_extension": ".py",
   "mimetype": "text/x-python",
   "name": "python",
   "nbconvert_exporter": "python",
   "pygments_lexer": "ipython2",
   "version": "2.7.11"
  },
  "widgets": {
   "state": {
    "f64205368d30402dbdb9a46962847724": {
     "views": [
      {
       "cell_index": 3
      }
     ]
    }
   },
   "version": "1.2.0"
  }
 },
 "nbformat": 4,
 "nbformat_minor": 0
}
